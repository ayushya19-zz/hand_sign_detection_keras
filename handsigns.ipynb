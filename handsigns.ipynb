{
  "nbformat": 4,
  "nbformat_minor": 0,
  "metadata": {
    "colab": {
      "name": "handsigns.ipynb",
      "provenance": [],
      "collapsed_sections": [],
      "authorship_tag": "ABX9TyPD7ZENFuuLwIVdP6tWM8cl",
      "include_colab_link": true
    },
    "kernelspec": {
      "name": "python3",
      "display_name": "Python 3"
    },
    "accelerator": "GPU"
  },
  "cells": [
    {
      "cell_type": "markdown",
      "metadata": {
        "id": "view-in-github",
        "colab_type": "text"
      },
      "source": [
        "<a href=\"https://colab.research.google.com/github/ayushya19/hand_sign_detection_keras/blob/master/handsigns.ipynb\" target=\"_parent\"><img src=\"https://colab.research.google.com/assets/colab-badge.svg\" alt=\"Open In Colab\"/></a>"
      ]
    },
    {
      "cell_type": "code",
      "metadata": {
        "id": "Q-GF0wCQym7T",
        "colab_type": "code",
        "colab": {}
      },
      "source": [
        "import math\n",
        "import numpy as np\n",
        "import h5py\n",
        "import matplotlib.pyplot as plt\n",
        "import scipy\n",
        "from PIL import Image\n",
        "from scipy import ndimage\n",
        "import tensorflow as tf\n",
        "from tensorflow.python.framework import ops\n",
        "from keras.models import Sequential\n",
        "from keras.layers import Convolution2D\n",
        "from keras.layers import MaxPooling2D\n",
        "from keras.layers import Flatten\n",
        "from keras.layers import Dense\n",
        "\n",
        "def load_dataset():\n",
        "    train_dataset = h5py.File('datasets/train_signs.h5', \"r\")\n",
        "    train_set_x_orig = np.array(train_dataset[\"train_set_x\"][:]) # your train set features\n",
        "    train_set_y_orig = np.array(train_dataset[\"train_set_y\"][:]) # your train set labels\n",
        "\n",
        "    test_dataset = h5py.File('datasets/test_signs.h5', \"r\")\n",
        "    test_set_x_orig = np.array(test_dataset[\"test_set_x\"][:]) # your test set features\n",
        "    test_set_y_orig = np.array(test_dataset[\"test_set_y\"][:]) # your test set labels\n",
        "\n",
        "    classes = np.array(test_dataset[\"list_classes\"][:]) # the list of classes\n",
        "    \n",
        "    train_set_y_orig = train_set_y_orig.reshape((1, train_set_y_orig.shape[0]))\n",
        "    test_set_y_orig = test_set_y_orig.reshape((1, test_set_y_orig.shape[0]))\n",
        "    \n",
        "    return train_set_x_orig, train_set_y_orig, test_set_x_orig, test_set_y_orig, classes\n",
        "\n",
        "\n",
        "\n",
        "\n",
        "def convert_to_one_hot(Y, C):\n",
        "    Y = np.eye(C)[Y.reshape(-1)].T\n",
        "    return Y\n",
        "\n",
        "\n",
        "\n",
        "\n"
      ],
      "execution_count": null,
      "outputs": []
    },
    {
      "cell_type": "code",
      "metadata": {
        "id": "U0vQNU3H0Vx7",
        "colab_type": "code",
        "colab": {}
      },
      "source": [
        "X_train_orig,Y_train_orig,X_test_orig,Y_test_orig,classes=load_dataset()"
      ],
      "execution_count": null,
      "outputs": []
    },
    {
      "cell_type": "code",
      "metadata": {
        "id": "vhU6yyjjzMpZ",
        "colab_type": "code",
        "colab": {
          "base_uri": "https://localhost:8080/",
          "height": 285
        },
        "outputId": "74e59479-3e98-4a73-aa5a-19d859088bc3"
      },
      "source": [
        "#This is just to see our data\n",
        "index = 20\n",
        "plt.imshow(X_train_orig[index])\n",
        "print (\"y = \" + str(np.squeeze(Y_train_orig[:, index])))"
      ],
      "execution_count": null,
      "outputs": [
        {
          "output_type": "stream",
          "text": [
            "y = 0\n"
          ],
          "name": "stdout"
        },
        {
          "output_type": "display_data",
          "data": {
            "image/png": "[encoded data removed]",
            "text/plain": [
              "<Figure size 432x288 with 1 Axes>"
            ]
          },
          "metadata": {
            "tags": [],
            "needs_background": "light"
          }
        }
      ]
    },
    {
      "cell_type": "code",
      "metadata": {
        "id": "YVPbV_RE0TTS",
        "colab_type": "code",
        "colab": {
          "base_uri": "https://localhost:8080/",
          "height": 118
        },
        "outputId": "ed72e1a3-9153-4092-9482-0ea292470dd4"
      },
      "source": [
        "#Normalizing your data\n",
        "X_train=X_train_orig/255\n",
        "X_test=X_test_orig/255\n",
        "Y_train=Y_train_orig/255\n",
        "Y_test=Y_test_orig/255\n",
        "\n",
        "#converting your result to a 6 row index with one of being 1 and the rest being 0\n",
        "Y_train = convert_to_one_hot(Y_train_orig, 6).T\n",
        "Y_test = convert_to_one_hot(Y_test_orig, 6).T\n",
        "\n",
        "#Find the dimensions of the training data and testing data\n",
        "print (\"number of training examples = \" + str(X_train.shape[0]))\n",
        "print (\"number of test examples = \" + str(X_test.shape[0]))\n",
        "print (\"X_train shape: \" + str(X_train.shape))\n",
        "print (\"Y_train shape: \" + str(Y_train.shape))\n",
        "print (\"X_test shape: \" + str(X_test.shape))\n",
        "print (\"Y_test shape: \" + str(Y_test.shape))\n",
        "\n",
        "\n",
        "\n"
      ],
      "execution_count": null,
      "outputs": [
        {
          "output_type": "stream",
          "text": [
            "number of training examples = 1080\n",
            "number of test examples = 120\n",
            "X_train shape: (1080, 64, 64, 3)\n",
            "Y_train shape: (1080, 6)\n",
            "X_test shape: (120, 64, 64, 3)\n",
            "Y_test shape: (120, 6)\n"
          ],
          "name": "stdout"
        }
      ]
    },
    {
      "cell_type": "code",
      "metadata": {
        "id": "v4-jn02_1NHA",
        "colab_type": "code",
        "colab": {}
      },
      "source": [
        "#Initialize your network\n",
        "classifier=Sequential()"
      ],
      "execution_count": null,
      "outputs": []
    },
    {
      "cell_type": "code",
      "metadata": {
        "id": "traC0jC7AZ1m",
        "colab_type": "code",
        "colab": {}
      },
      "source": [
        "#add layers to your networks use input shape for your input without the no. of datas\n",
        "classifier.add(Convolution2D(32, (3, 3), input_shape = (64, 64, 3), activation = 'relu'))\n",
        "classifier.add(MaxPooling2D(pool_size=(2,2)))\n",
        "classifier.add(Convolution2D(32,(3,3),activation='relu'))\n",
        "classifier.add(MaxPooling2D(pool_size=(2,2)))\n",
        "classifier.add(Flatten())\n",
        "classifier.add(Dense(units=128,activation='relu'))\n",
        "classifier.add(Dense(units=6,activation='softmax'))\n",
        "\n",
        "#compile the networks\n",
        "classifier.compile(optimizer='adam',loss='categorical_crossentropy',metrics=['accuracy'])\n"
      ],
      "execution_count": null,
      "outputs": []
    },
    {
      "cell_type": "code",
      "metadata": {
        "id": "IYXtWKiDRm3M",
        "colab_type": "code",
        "colab": {}
      },
      "source": [
        "   #conver the data to an array\n",
        "   n_train=1080  \n",
        "   train_X_del = np.asarray([X_train[i,:,:,:] for i in range(n_train)])\n",
        "   train_y_del = np.asarray([Y_train[i] for i in range(n_train)])"
      ],
      "execution_count": null,
      "outputs": []
    },
    {
      "cell_type": "code",
      "metadata": {
        "id": "VrvxFfOGEAXn",
        "colab_type": "code",
        "colab": {
          "base_uri": "https://localhost:8080/",
          "height": 1000
        },
        "outputId": "8db21fe3-5b1d-4a86-ec2a-f778a4c660de"
      },
      "source": [
        "#Train the model at the size of batch_size times the input shape given in the network\n",
        "classifier.fit(X_train, Y_train, batch_size = 32, epochs = 100)"
      ],
      "execution_count": null,
      "outputs": [
        {
          "output_type": "stream",
          "text": [
            "Epoch 1/100\n",
            "1080/1080 [==============================] - 7s 7ms/step - loss: 1.7288 - accuracy: 0.2861\n",
            "Epoch 2/100\n",
            "1080/1080 [==============================] - 0s 222us/step - loss: 1.1432 - accuracy: 0.5944\n",
            "Epoch 3/100\n",
            "1080/1080 [==============================] - 0s 212us/step - loss: 0.7852 - accuracy: 0.7315\n",
            "Epoch 4/100\n",
            "1080/1080 [==============================] - 0s 212us/step - loss: 0.5580 - accuracy: 0.8222\n",
            "Epoch 5/100\n",
            "1080/1080 [==============================] - 0s 224us/step - loss: 0.4121 - accuracy: 0.8806\n",
            "Epoch 6/100\n",
            "1080/1080 [==============================] - 0s 215us/step - loss: 0.3062 - accuracy: 0.9083\n",
            "Epoch 7/100\n",
            "1080/1080 [==============================] - 0s 211us/step - loss: 0.2105 - accuracy: 0.9407\n",
            "Epoch 8/100\n",
            "1080/1080 [==============================] - 0s 211us/step - loss: 0.1764 - accuracy: 0.9491\n",
            "Epoch 9/100\n",
            "1080/1080 [==============================] - 0s 216us/step - loss: 0.1259 - accuracy: 0.9685\n",
            "Epoch 10/100\n",
            "1080/1080 [==============================] - 0s 207us/step - loss: 0.0855 - accuracy: 0.9815\n",
            "Epoch 11/100\n",
            "1080/1080 [==============================] - 0s 213us/step - loss: 0.0608 - accuracy: 0.9917\n",
            "Epoch 12/100\n",
            "1080/1080 [==============================] - 0s 213us/step - loss: 0.0384 - accuracy: 0.9944\n",
            "Epoch 13/100\n",
            "1080/1080 [==============================] - 0s 218us/step - loss: 0.0339 - accuracy: 0.9954\n",
            "Epoch 14/100\n",
            "1080/1080 [==============================] - 0s 211us/step - loss: 0.0178 - accuracy: 0.9991\n",
            "Epoch 15/100\n",
            "1080/1080 [==============================] - 0s 217us/step - loss: 0.0129 - accuracy: 1.0000\n",
            "Epoch 16/100\n",
            "1080/1080 [==============================] - 0s 209us/step - loss: 0.0082 - accuracy: 1.0000\n",
            "Epoch 17/100\n",
            "1080/1080 [==============================] - 0s 217us/step - loss: 0.0070 - accuracy: 1.0000\n",
            "Epoch 18/100\n",
            "1080/1080 [==============================] - 0s 214us/step - loss: 0.0050 - accuracy: 1.0000\n",
            "Epoch 19/100\n",
            "1080/1080 [==============================] - 0s 211us/step - loss: 0.0045 - accuracy: 1.0000\n",
            "Epoch 20/100\n",
            "1080/1080 [==============================] - 0s 218us/step - loss: 0.0037 - accuracy: 1.0000\n",
            "Epoch 21/100\n",
            "1080/1080 [==============================] - 0s 212us/step - loss: 0.0033 - accuracy: 1.0000\n",
            "Epoch 22/100\n",
            "1080/1080 [==============================] - 0s 215us/step - loss: 0.0030 - accuracy: 1.0000\n",
            "Epoch 23/100\n",
            "1080/1080 [==============================] - 0s 213us/step - loss: 0.0026 - accuracy: 1.0000\n",
            "Epoch 24/100\n",
            "1080/1080 [==============================] - 0s 218us/step - loss: 0.0024 - accuracy: 1.0000\n",
            "Epoch 25/100\n",
            "1080/1080 [==============================] - 0s 212us/step - loss: 0.0022 - accuracy: 1.0000\n",
            "Epoch 26/100\n",
            "1080/1080 [==============================] - 0s 217us/step - loss: 0.0019 - accuracy: 1.0000\n",
            "Epoch 27/100\n",
            "1080/1080 [==============================] - 0s 221us/step - loss: 0.0017 - accuracy: 1.0000\n",
            "Epoch 28/100\n",
            "1080/1080 [==============================] - 0s 215us/step - loss: 0.0016 - accuracy: 1.0000\n",
            "Epoch 29/100\n",
            "1080/1080 [==============================] - 0s 211us/step - loss: 0.0015 - accuracy: 1.0000\n",
            "Epoch 30/100\n",
            "1080/1080 [==============================] - 0s 218us/step - loss: 0.0013 - accuracy: 1.0000\n",
            "Epoch 31/100\n",
            "1080/1080 [==============================] - 0s 219us/step - loss: 0.0012 - accuracy: 1.0000\n",
            "Epoch 32/100\n",
            "1080/1080 [==============================] - 0s 210us/step - loss: 0.0012 - accuracy: 1.0000\n",
            "Epoch 33/100\n",
            "1080/1080 [==============================] - 0s 220us/step - loss: 0.0011 - accuracy: 1.0000\n",
            "Epoch 34/100\n",
            "1080/1080 [==============================] - 0s 212us/step - loss: 9.9411e-04 - accuracy: 1.0000\n",
            "Epoch 35/100\n",
            "1080/1080 [==============================] - 0s 213us/step - loss: 9.9981e-04 - accuracy: 1.0000\n",
            "Epoch 36/100\n",
            "1080/1080 [==============================] - 0s 209us/step - loss: 8.6845e-04 - accuracy: 1.0000\n",
            "Epoch 37/100\n",
            "1080/1080 [==============================] - 0s 213us/step - loss: 7.9794e-04 - accuracy: 1.0000\n",
            "Epoch 38/100\n",
            "1080/1080 [==============================] - 0s 210us/step - loss: 7.3995e-04 - accuracy: 1.0000\n",
            "Epoch 39/100\n",
            "1080/1080 [==============================] - 0s 217us/step - loss: 6.9288e-04 - accuracy: 1.0000\n",
            "Epoch 40/100\n",
            "1080/1080 [==============================] - 0s 212us/step - loss: 6.4915e-04 - accuracy: 1.0000\n",
            "Epoch 41/100\n",
            "1080/1080 [==============================] - 0s 217us/step - loss: 6.2415e-04 - accuracy: 1.0000\n",
            "Epoch 42/100\n",
            "1080/1080 [==============================] - 0s 213us/step - loss: 5.8358e-04 - accuracy: 1.0000\n",
            "Epoch 43/100\n",
            "1080/1080 [==============================] - 0s 211us/step - loss: 5.3773e-04 - accuracy: 1.0000\n",
            "Epoch 44/100\n",
            "1080/1080 [==============================] - 0s 219us/step - loss: 4.9828e-04 - accuracy: 1.0000\n",
            "Epoch 45/100\n",
            "1080/1080 [==============================] - 0s 212us/step - loss: 4.7176e-04 - accuracy: 1.0000\n",
            "Epoch 46/100\n",
            "1080/1080 [==============================] - 0s 222us/step - loss: 4.3950e-04 - accuracy: 1.0000\n",
            "Epoch 47/100\n",
            "1080/1080 [==============================] - 0s 208us/step - loss: 4.2225e-04 - accuracy: 1.0000\n",
            "Epoch 48/100\n",
            "1080/1080 [==============================] - 0s 217us/step - loss: 3.9361e-04 - accuracy: 1.0000\n",
            "Epoch 49/100\n",
            "1080/1080 [==============================] - 0s 219us/step - loss: 3.7968e-04 - accuracy: 1.0000\n",
            "Epoch 50/100\n",
            "1080/1080 [==============================] - 0s 217us/step - loss: 3.5251e-04 - accuracy: 1.0000\n",
            "Epoch 51/100\n",
            "1080/1080 [==============================] - 0s 209us/step - loss: 3.2967e-04 - accuracy: 1.0000\n",
            "Epoch 52/100\n",
            "1080/1080 [==============================] - 0s 223us/step - loss: 3.1000e-04 - accuracy: 1.0000\n",
            "Epoch 53/100\n",
            "1080/1080 [==============================] - 0s 232us/step - loss: 2.9390e-04 - accuracy: 1.0000\n",
            "Epoch 54/100\n",
            "1080/1080 [==============================] - 0s 220us/step - loss: 2.8283e-04 - accuracy: 1.0000\n",
            "Epoch 55/100\n",
            "1080/1080 [==============================] - 0s 209us/step - loss: 2.6482e-04 - accuracy: 1.0000\n",
            "Epoch 56/100\n",
            "1080/1080 [==============================] - 0s 221us/step - loss: 2.5021e-04 - accuracy: 1.0000\n",
            "Epoch 57/100\n",
            "1080/1080 [==============================] - 0s 218us/step - loss: 2.4049e-04 - accuracy: 1.0000\n",
            "Epoch 58/100\n",
            "1080/1080 [==============================] - 0s 209us/step - loss: 2.2774e-04 - accuracy: 1.0000\n",
            "Epoch 59/100\n",
            "1080/1080 [==============================] - 0s 216us/step - loss: 2.1663e-04 - accuracy: 1.0000\n",
            "Epoch 60/100\n",
            "1080/1080 [==============================] - 0s 214us/step - loss: 2.0643e-04 - accuracy: 1.0000\n",
            "Epoch 61/100\n",
            "1080/1080 [==============================] - 0s 216us/step - loss: 1.9540e-04 - accuracy: 1.0000\n",
            "Epoch 62/100\n",
            "1080/1080 [==============================] - 0s 211us/step - loss: 1.9049e-04 - accuracy: 1.0000\n",
            "Epoch 63/100\n",
            "1080/1080 [==============================] - 0s 220us/step - loss: 1.8140e-04 - accuracy: 1.0000\n",
            "Epoch 64/100\n",
            "1080/1080 [==============================] - 0s 212us/step - loss: 1.7012e-04 - accuracy: 1.0000\n",
            "Epoch 65/100\n",
            "1080/1080 [==============================] - 0s 217us/step - loss: 1.6365e-04 - accuracy: 1.0000\n",
            "Epoch 66/100\n",
            "1080/1080 [==============================] - 0s 214us/step - loss: 1.5630e-04 - accuracy: 1.0000\n",
            "Epoch 67/100\n",
            "1080/1080 [==============================] - 0s 217us/step - loss: 1.4956e-04 - accuracy: 1.0000\n",
            "Epoch 68/100\n",
            "1080/1080 [==============================] - 0s 211us/step - loss: 1.4608e-04 - accuracy: 1.0000\n",
            "Epoch 69/100\n",
            "1080/1080 [==============================] - 0s 213us/step - loss: 1.3606e-04 - accuracy: 1.0000\n",
            "Epoch 70/100\n",
            "1080/1080 [==============================] - 0s 214us/step - loss: 1.3292e-04 - accuracy: 1.0000\n",
            "Epoch 71/100\n",
            "1080/1080 [==============================] - 0s 209us/step - loss: 1.2529e-04 - accuracy: 1.0000\n",
            "Epoch 72/100\n",
            "1080/1080 [==============================] - 0s 221us/step - loss: 1.2061e-04 - accuracy: 1.0000\n",
            "Epoch 73/100\n",
            "1080/1080 [==============================] - 0s 217us/step - loss: 1.1553e-04 - accuracy: 1.0000\n",
            "Epoch 74/100\n",
            "1080/1080 [==============================] - 0s 214us/step - loss: 1.1127e-04 - accuracy: 1.0000\n",
            "Epoch 75/100\n",
            "1080/1080 [==============================] - 0s 214us/step - loss: 1.0667e-04 - accuracy: 1.0000\n",
            "Epoch 76/100\n",
            "1080/1080 [==============================] - 0s 219us/step - loss: 1.0310e-04 - accuracy: 1.0000\n",
            "Epoch 77/100\n",
            "1080/1080 [==============================] - 0s 213us/step - loss: 1.0008e-04 - accuracy: 1.0000\n",
            "Epoch 78/100\n",
            "1080/1080 [==============================] - 0s 217us/step - loss: 9.6139e-05 - accuracy: 1.0000\n",
            "Epoch 79/100\n",
            "1080/1080 [==============================] - 0s 212us/step - loss: 9.1207e-05 - accuracy: 1.0000\n",
            "Epoch 80/100\n",
            "1080/1080 [==============================] - 0s 215us/step - loss: 8.8875e-05 - accuracy: 1.0000\n",
            "Epoch 81/100\n",
            "1080/1080 [==============================] - 0s 218us/step - loss: 8.6657e-05 - accuracy: 1.0000\n",
            "Epoch 82/100\n",
            "1080/1080 [==============================] - 0s 218us/step - loss: 8.1447e-05 - accuracy: 1.0000\n",
            "Epoch 83/100\n",
            "1080/1080 [==============================] - 0s 213us/step - loss: 7.8937e-05 - accuracy: 1.0000\n",
            "Epoch 84/100\n",
            "1080/1080 [==============================] - 0s 211us/step - loss: 7.6714e-05 - accuracy: 1.0000\n",
            "Epoch 85/100\n",
            "1080/1080 [==============================] - 0s 221us/step - loss: 7.3210e-05 - accuracy: 1.0000\n",
            "Epoch 86/100\n",
            "1080/1080 [==============================] - 0s 212us/step - loss: 7.0985e-05 - accuracy: 1.0000\n",
            "Epoch 87/100\n",
            "1080/1080 [==============================] - 0s 220us/step - loss: 6.8943e-05 - accuracy: 1.0000\n",
            "Epoch 88/100\n",
            "1080/1080 [==============================] - 0s 210us/step - loss: 6.6883e-05 - accuracy: 1.0000\n",
            "Epoch 89/100\n",
            "1080/1080 [==============================] - 0s 223us/step - loss: 6.5147e-05 - accuracy: 1.0000\n",
            "Epoch 90/100\n",
            "1080/1080 [==============================] - 0s 211us/step - loss: 6.2797e-05 - accuracy: 1.0000\n",
            "Epoch 91/100\n",
            "1080/1080 [==============================] - 0s 220us/step - loss: 6.0081e-05 - accuracy: 1.0000\n",
            "Epoch 92/100\n",
            "1080/1080 [==============================] - 0s 212us/step - loss: 5.8283e-05 - accuracy: 1.0000\n",
            "Epoch 93/100\n",
            "1080/1080 [==============================] - 0s 210us/step - loss: 5.6510e-05 - accuracy: 1.0000\n",
            "Epoch 94/100\n",
            "1080/1080 [==============================] - 0s 212us/step - loss: 5.5464e-05 - accuracy: 1.0000\n",
            "Epoch 95/100\n",
            "1080/1080 [==============================] - 0s 223us/step - loss: 5.2669e-05 - accuracy: 1.0000\n",
            "Epoch 96/100\n",
            "1080/1080 [==============================] - 0s 211us/step - loss: 5.1405e-05 - accuracy: 1.0000\n",
            "Epoch 97/100\n",
            "1080/1080 [==============================] - 0s 207us/step - loss: 4.9904e-05 - accuracy: 1.0000\n",
            "Epoch 98/100\n",
            "1080/1080 [==============================] - 0s 228us/step - loss: 4.7745e-05 - accuracy: 1.0000\n",
            "Epoch 99/100\n",
            "1080/1080 [==============================] - 0s 215us/step - loss: 4.6400e-05 - accuracy: 1.0000\n",
            "Epoch 100/100\n",
            "1080/1080 [==============================] - 0s 217us/step - loss: 4.5364e-05 - accuracy: 1.0000\n"
          ],
          "name": "stdout"
        },
        {
          "output_type": "execute_result",
          "data": {
            "text/plain": [
              "<keras.callbacks.callbacks.History at 0x7f1b6018ef28>"
            ]
          },
          "metadata": {
            "tags": []
          },
          "execution_count": 41
        }
      ]
    },
    {
      "cell_type": "code",
      "metadata": {
        "id": "dyMDB5ygEA0X",
        "colab_type": "code",
        "colab": {}
      },
      "source": [
        "#Try to predict the test data\n",
        "result=classifier.predict(X_test,batch_size=32)"
      ],
      "execution_count": null,
      "outputs": []
    },
    {
      "cell_type": "code",
      "metadata": {
        "id": "a8kkzBi6taHE",
        "colab_type": "code",
        "colab": {
          "base_uri": "https://localhost:8080/",
          "height": 1000
        },
        "outputId": "0de93bdf-c6eb-4e6f-d6cc-3a1d598d0175"
      },
      "source": [
        "result"
      ],
      "execution_count": null,
      "outputs": [
        {
          "output_type": "execute_result",
          "data": {
            "text/plain": [
              "array([[9.99986529e-01, 1.34569746e-05, 1.63157736e-08, 4.27567676e-10,\n",
              "        1.46843232e-11, 7.06639816e-11],\n",
              "       [9.99964118e-01, 3.20664039e-05, 3.79308835e-06, 5.80700643e-09,\n",
              "        1.35485666e-12, 4.13061196e-10],\n",
              "       [9.99999642e-01, 6.39633500e-20, 5.68712188e-08, 1.32414479e-08,\n",
              "        2.56162849e-07, 6.94458122e-14],\n",
              "       [2.64160493e-13, 1.69624593e-18, 3.59427287e-16, 3.04258350e-07,\n",
              "        4.49377410e-11, 9.99999642e-01],\n",
              "       [1.91427176e-07, 9.99553025e-01, 4.46689985e-04, 5.71044243e-13,\n",
              "        9.80902772e-12, 2.29394886e-17],\n",
              "       [1.00000000e+00, 3.66277427e-24, 1.72360320e-10, 1.74564844e-13,\n",
              "        1.10913570e-10, 7.12951933e-17],\n",
              "       [7.15077920e-16, 2.15914806e-08, 4.60952838e-11, 9.94925618e-01,\n",
              "        5.39453875e-04, 4.53489833e-03],\n",
              "       [5.96560011e-15, 9.99998927e-01, 1.08516133e-06, 2.10385051e-12,\n",
              "        2.38289271e-12, 1.01160651e-20],\n",
              "       [8.12097126e-16, 1.73334329e-13, 4.20985025e-09, 7.50347817e-06,\n",
              "        7.42406072e-03, 9.92568493e-01],\n",
              "       [8.47330468e-16, 9.99279559e-01, 7.16951035e-04, 3.40375846e-06,\n",
              "        8.06375553e-08, 5.27757981e-15],\n",
              "       [1.64984861e-13, 1.33635204e-11, 3.55246584e-07, 2.12307441e-06,\n",
              "        3.51413200e-06, 9.99994040e-01],\n",
              "       [1.94742035e-11, 9.99999762e-01, 1.90306366e-07, 1.97648468e-15,\n",
              "        5.35140671e-13, 2.08213404e-17],\n",
              "       [3.44570541e-16, 1.93113069e-19, 7.34347479e-12, 9.99397397e-01,\n",
              "        1.40765733e-05, 5.88535680e-04],\n",
              "       [6.32496347e-11, 9.99985456e-01, 1.42915906e-05, 3.26574927e-08,\n",
              "        2.33749333e-07, 1.37235823e-08],\n",
              "       [5.50906890e-12, 9.98772323e-01, 9.29370003e-09, 5.45309740e-06,\n",
              "        1.22129219e-03, 9.03553655e-07],\n",
              "       [5.45508107e-15, 2.13121943e-14, 1.81129781e-06, 3.90890360e-01,\n",
              "        1.73056424e-02, 5.91802180e-01],\n",
              "       [2.08451523e-09, 1.91321407e-15, 1.10054786e-11, 1.31444411e-09,\n",
              "        1.90609550e-09, 1.00000000e+00],\n",
              "       [2.77980950e-14, 1.17045861e-11, 1.32274022e-03, 5.34713035e-03,\n",
              "        9.88769293e-01, 4.56093671e-03],\n",
              "       [9.99999881e-01, 5.79398573e-15, 5.57907898e-09, 3.47431905e-09,\n",
              "        6.34910440e-12, 1.00192644e-07],\n",
              "       [2.08615795e-14, 3.37403663e-17, 5.59062138e-03, 9.77902673e-05,\n",
              "        4.45239060e-02, 9.49787617e-01],\n",
              "       [1.94668672e-16, 3.13922306e-19, 1.01041679e-13, 7.22781124e-07,\n",
              "        5.25834598e-10, 9.99999285e-01],\n",
              "       [1.05183223e-13, 4.65820160e-10, 2.02105977e-04, 4.87278093e-08,\n",
              "        9.99797165e-01, 7.52901371e-07],\n",
              "       [1.46826365e-04, 8.32783584e-08, 9.99849081e-01, 2.36440565e-06,\n",
              "        1.53827796e-06, 2.12214424e-09],\n",
              "       [6.62457383e-30, 3.57424396e-25, 1.37679915e-20, 1.26953364e-05,\n",
              "        1.74921581e-06, 9.99985576e-01],\n",
              "       [1.10459234e-06, 4.94628108e-14, 1.52429629e-05, 9.61073399e-01,\n",
              "        4.70736668e-05, 3.88631597e-02],\n",
              "       [1.21017777e-07, 2.48090365e-16, 5.64784521e-08, 3.80682445e-06,\n",
              "        2.44125328e-03, 9.97554719e-01],\n",
              "       [5.91020410e-07, 4.73929518e-09, 2.97469660e-10, 1.77074284e-07,\n",
              "        9.99998212e-01, 1.02485808e-06],\n",
              "       [3.29557048e-10, 1.89369172e-02, 9.80947614e-01, 1.21468520e-06,\n",
              "        1.14152317e-04, 6.67981865e-08],\n",
              "       [7.44391007e-11, 9.96543586e-01, 2.32429320e-05, 3.16182547e-03,\n",
              "        2.71336932e-04, 1.08484877e-09],\n",
              "       [1.39561875e-04, 2.99735499e-16, 7.33959605e-05, 1.14047756e-11,\n",
              "        9.01240710e-05, 9.99696970e-01],\n",
              "       [2.74012773e-13, 6.79497258e-09, 5.10261580e-02, 9.26512301e-01,\n",
              "        1.96413416e-03, 2.04974320e-02],\n",
              "       [7.10848210e-13, 9.99999285e-01, 7.36957986e-07, 1.25808513e-11,\n",
              "        3.01604991e-11, 2.84776585e-15],\n",
              "       [1.00000000e+00, 6.22775339e-19, 7.41335549e-10, 9.15212323e-14,\n",
              "        3.05971086e-15, 2.88604322e-16],\n",
              "       [8.96842756e-12, 8.02052000e-07, 1.04353093e-01, 8.87790024e-01,\n",
              "        7.98432739e-04, 7.05767889e-03],\n",
              "       [7.02165886e-12, 9.99947071e-01, 5.29450590e-05, 1.06731957e-10,\n",
              "        3.98630656e-10, 1.41197464e-17],\n",
              "       [1.45336052e-15, 1.00000000e+00, 3.00440703e-08, 1.62329275e-12,\n",
              "        1.05074427e-09, 3.23892996e-12],\n",
              "       [9.99955893e-01, 4.41344455e-05, 2.94491211e-13, 4.09412837e-10,\n",
              "        3.55396602e-15, 2.71473944e-17],\n",
              "       [6.10547941e-05, 7.63142705e-09, 3.30425246e-05, 8.78564199e-04,\n",
              "        9.99027133e-01, 1.87057537e-07],\n",
              "       [3.23102940e-05, 4.86757523e-10, 9.95244324e-01, 4.36800065e-06,\n",
              "        4.71740076e-03, 1.55426540e-06],\n",
              "       [4.24904490e-14, 7.40928360e-11, 1.85378666e-14, 9.99443591e-01,\n",
              "        5.65521668e-06, 5.50691911e-04],\n",
              "       [9.99904275e-01, 1.10876089e-25, 2.07208865e-15, 2.08464389e-05,\n",
              "        7.48345265e-05, 6.04615247e-09],\n",
              "       [1.26381318e-15, 6.17421795e-18, 7.83090007e-15, 9.99991179e-01,\n",
              "        2.07989092e-06, 6.73113345e-06],\n",
              "       [1.00000000e+00, 7.36672008e-12, 2.84996014e-17, 5.70416246e-14,\n",
              "        2.05018866e-11, 6.04919625e-14],\n",
              "       [4.58898022e-08, 5.12385157e-08, 9.99999404e-01, 1.57811222e-08,\n",
              "        4.27330860e-07, 8.11761325e-10],\n",
              "       [2.93162565e-12, 2.12156266e-08, 1.34601904e-11, 9.99999762e-01,\n",
              "        2.30900511e-07, 6.68280364e-08],\n",
              "       [1.69156130e-11, 9.99999881e-01, 1.05713774e-07, 8.27835023e-11,\n",
              "        4.74367334e-12, 6.49584275e-11],\n",
              "       [7.90052297e-07, 9.62830186e-01, 3.71688157e-02, 1.33459594e-07,\n",
              "        2.91135969e-08, 1.98452433e-14],\n",
              "       [1.67735721e-11, 2.08601588e-03, 9.96707439e-01, 8.13698338e-04,\n",
              "        1.32786295e-06, 3.91510868e-04],\n",
              "       [9.99846697e-01, 4.48728477e-09, 1.53233865e-04, 2.34788290e-13,\n",
              "        1.82310860e-08, 2.07374500e-11],\n",
              "       [1.83327589e-16, 4.60860411e-18, 6.38700559e-09, 9.99690294e-01,\n",
              "        1.24721589e-06, 3.08504706e-04],\n",
              "       [1.35239279e-16, 1.94044195e-12, 2.20078719e-10, 5.71370474e-05,\n",
              "        9.99942660e-01, 2.02767978e-07],\n",
              "       [7.87607826e-11, 9.99977708e-01, 2.22959025e-05, 7.45385798e-09,\n",
              "        2.02017159e-08, 9.59978504e-18],\n",
              "       [1.54073271e-12, 2.80169291e-11, 9.99952197e-01, 2.51529131e-10,\n",
              "        4.78285147e-05, 2.32164409e-11],\n",
              "       [9.99998331e-01, 6.35123629e-24, 4.72973440e-12, 5.65647760e-08,\n",
              "        1.72034083e-06, 2.39713696e-12],\n",
              "       [1.54274261e-14, 6.02871919e-13, 6.14027977e-01, 2.82681157e-07,\n",
              "        3.85223001e-01, 7.48708495e-04],\n",
              "       [1.00000000e+00, 3.42084347e-11, 1.35390096e-15, 1.32330941e-12,\n",
              "        7.49001972e-10, 7.89878666e-12],\n",
              "       [6.97218172e-10, 4.26953092e-27, 4.78942053e-10, 8.75029509e-05,\n",
              "        9.99762237e-01, 1.50269814e-04],\n",
              "       [9.99991894e-01, 3.53015515e-20, 8.05538730e-06, 3.78057638e-13,\n",
              "        2.42869502e-10, 4.60300573e-16],\n",
              "       [1.45220762e-11, 2.12212004e-09, 1.21520849e-11, 3.95609305e-08,\n",
              "        9.99999762e-01, 2.78817907e-07],\n",
              "       [5.09987240e-06, 5.55830630e-17, 1.68566105e-12, 3.73069582e-07,\n",
              "        3.60544036e-05, 9.99958515e-01],\n",
              "       [3.33717898e-09, 1.49706621e-20, 2.00865670e-05, 8.83788118e-08,\n",
              "        2.54797641e-08, 9.99979854e-01],\n",
              "       [6.50419064e-17, 1.47823865e-12, 2.09313366e-04, 1.71192278e-06,\n",
              "        5.55948075e-03, 9.94229555e-01],\n",
              "       [1.76911610e-11, 3.79232404e-07, 9.99999642e-01, 1.85552901e-14,\n",
              "        3.04212371e-08, 2.24542346e-16],\n",
              "       [2.54098080e-22, 2.82876897e-16, 1.51121360e-09, 7.46105798e-06,\n",
              "        9.99978542e-01, 1.38931455e-05],\n",
              "       [3.96977365e-03, 8.66481860e-04, 2.05391007e-06, 7.99007192e-02,\n",
              "        9.15103197e-01, 1.57867908e-04],\n",
              "       [2.10932747e-26, 1.28680922e-22, 9.24495605e-22, 7.58611113e-02,\n",
              "        1.02360347e-04, 9.24036562e-01],\n",
              "       [9.99964118e-01, 3.20664039e-05, 3.79308835e-06, 5.80700643e-09,\n",
              "        1.35485666e-12, 4.13061196e-10],\n",
              "       [4.62267308e-05, 9.92525816e-01, 7.58487744e-08, 3.57780664e-06,\n",
              "        7.41973938e-03, 4.44331090e-06],\n",
              "       [2.43800390e-03, 1.10871327e-17, 3.90874236e-13, 9.81738269e-01,\n",
              "        6.58792350e-03, 9.23584029e-03],\n",
              "       [1.44449950e-14, 1.03918088e-17, 4.36348557e-15, 2.73023852e-05,\n",
              "        2.50351923e-06, 9.99970198e-01],\n",
              "       [9.99859571e-01, 3.33937130e-19, 1.40365097e-04, 4.16386370e-12,\n",
              "        2.04737169e-08, 2.53024200e-15],\n",
              "       [2.00517402e-12, 6.04623504e-11, 1.25413917e-05, 1.46885930e-06,\n",
              "        9.47363555e-01, 5.26224002e-02],\n",
              "       [2.03102086e-08, 9.78954673e-01, 5.63774472e-10, 2.10245103e-02,\n",
              "        4.58158155e-07, 2.03066793e-05],\n",
              "       [5.79251409e-14, 1.51939935e-03, 9.98441756e-01, 3.80959755e-05,\n",
              "        7.37474409e-07, 2.30285957e-10],\n",
              "       [1.11751298e-17, 5.92620757e-15, 4.67636832e-16, 9.99999881e-01,\n",
              "        2.71357581e-09, 8.73560921e-08],\n",
              "       [9.16815165e-11, 7.02947553e-12, 3.64183279e-06, 5.34674973e-06,\n",
              "        9.99800861e-01, 1.90231789e-04],\n",
              "       [5.64441337e-23, 5.44576487e-16, 4.70138623e-17, 9.99999285e-01,\n",
              "        1.84563351e-08, 7.40900759e-07],\n",
              "       [2.85735635e-09, 3.40994458e-14, 9.06096240e-11, 5.73227261e-08,\n",
              "        3.35910784e-07, 9.99999523e-01],\n",
              "       [4.13322771e-15, 9.99998927e-01, 1.12106841e-06, 4.55427807e-10,\n",
              "        1.56796044e-13, 4.69692316e-16],\n",
              "       [4.54635278e-14, 1.08516804e-14, 2.28995486e-11, 9.48950060e-07,\n",
              "        4.78992588e-05, 9.99951124e-01],\n",
              "       [8.33168997e-06, 1.14224781e-08, 9.99649882e-01, 7.73133304e-15,\n",
              "        3.41748644e-04, 4.24067998e-08],\n",
              "       [9.99957561e-01, 2.54510215e-12, 3.34555991e-14, 1.20385921e-05,\n",
              "        4.63398813e-08, 3.03568831e-05],\n",
              "       [8.33074495e-13, 9.98291194e-01, 1.70824456e-03, 5.97141195e-07,\n",
              "        4.65772176e-09, 1.08637540e-14],\n",
              "       [5.36902814e-12, 4.43260603e-07, 1.93215425e-13, 9.99165416e-01,\n",
              "        8.34075036e-04, 1.14403687e-09],\n",
              "       [1.60109717e-10, 3.60511194e-08, 9.99992967e-01, 6.87686543e-06,\n",
              "        1.05267773e-07, 7.58835572e-09],\n",
              "       [1.22459632e-13, 6.18346356e-19, 1.80127518e-05, 1.68627856e-04,\n",
              "        9.99813378e-01, 5.70008311e-11],\n",
              "       [2.83282784e-08, 1.50680724e-15, 3.99902239e-02, 2.68765762e-02,\n",
              "        8.62705886e-01, 7.04273507e-02],\n",
              "       [7.37740540e-15, 9.99379635e-01, 2.45422838e-09, 5.45969349e-04,\n",
              "        6.15928875e-05, 1.27683879e-05],\n",
              "       [2.73296663e-12, 1.35722813e-19, 1.66656591e-07, 7.28201677e-09,\n",
              "        9.99999881e-01, 8.43465645e-11],\n",
              "       [1.64435406e-16, 3.40366194e-17, 6.77953787e-12, 1.30113403e-06,\n",
              "        3.05586514e-06, 9.99995589e-01],\n",
              "       [9.14984845e-22, 4.70150849e-19, 7.12551740e-10, 1.94273264e-09,\n",
              "        4.39131327e-07, 9.99999523e-01],\n",
              "       [9.99994874e-01, 2.29528322e-20, 5.16434056e-06, 3.85514017e-12,\n",
              "        1.70776779e-08, 5.25518881e-16],\n",
              "       [1.00000000e+00, 1.22315521e-25, 2.55907860e-12, 2.74258069e-12,\n",
              "        4.37207603e-09, 1.05837532e-13],\n",
              "       [1.71336957e-13, 4.97683780e-15, 2.74459799e-05, 4.63094148e-05,\n",
              "        4.70439554e-04, 9.99455869e-01],\n",
              "       [7.19112232e-02, 6.56381286e-12, 8.68593419e-10, 1.68960014e-05,\n",
              "        4.24813516e-02, 8.85590494e-01],\n",
              "       [1.83786702e-04, 9.77577394e-12, 1.50648737e-06, 4.02071673e-05,\n",
              "        8.49772769e-05, 9.99689579e-01],\n",
              "       [2.37414746e-14, 2.40675620e-14, 1.11866302e-06, 9.99823272e-01,\n",
              "        1.57885501e-04, 1.77865440e-05],\n",
              "       [3.87658461e-10, 1.05051917e-03, 2.59154523e-03, 3.06478560e-01,\n",
              "        1.16185825e-02, 6.78260744e-01],\n",
              "       [5.79295523e-14, 3.30232591e-10, 3.76425682e-08, 6.69132802e-08,\n",
              "        1.38115336e-03, 9.98618722e-01],\n",
              "       [3.97871673e-07, 3.42960679e-03, 9.96372700e-01, 1.96906403e-04,\n",
              "        2.80144661e-07, 8.11692615e-08],\n",
              "       [7.93610455e-11, 1.20995168e-07, 9.99999881e-01, 5.40979414e-12,\n",
              "        3.58521639e-08, 3.27067429e-10],\n",
              "       [8.56942643e-06, 9.10635663e-06, 9.99937057e-01, 2.63313343e-10,\n",
              "        4.53061148e-05, 2.03885045e-13],\n",
              "       [1.00000000e+00, 1.84980352e-27, 2.57659270e-16, 1.97509231e-10,\n",
              "        1.72382197e-08, 7.96181940e-11],\n",
              "       [3.36506965e-08, 2.00705021e-03, 9.96235788e-01, 5.00211172e-05,\n",
              "        1.70614873e-03, 1.05109814e-06],\n",
              "       [7.84200656e-12, 1.18125602e-21, 9.09825957e-08, 4.44440059e-19,\n",
              "        9.81344223e-01, 1.86556131e-02],\n",
              "       [1.06036413e-09, 8.00421673e-10, 4.10814340e-20, 9.99994636e-01,\n",
              "        5.32551940e-06, 4.16829629e-08],\n",
              "       [9.99974728e-01, 2.52920472e-05, 4.87252315e-15, 4.23976465e-10,\n",
              "        1.05273124e-10, 9.63209867e-09],\n",
              "       [3.07835933e-07, 4.29942535e-04, 6.84087157e-01, 3.77099253e-02,\n",
              "        2.76806265e-01, 9.66387743e-04],\n",
              "       [2.48792566e-12, 2.12444391e-07, 3.31303345e-05, 9.14665520e-01,\n",
              "        8.28122646e-02, 2.48878798e-03],\n",
              "       [4.72735523e-12, 2.11070361e-15, 4.64697314e-06, 2.51509064e-05,\n",
              "        9.99970078e-01, 1.53332650e-07],\n",
              "       [5.01859101e-12, 1.00000000e+00, 5.29715960e-09, 2.20640455e-12,\n",
              "        1.99458587e-13, 5.45989560e-15],\n",
              "       [5.40623635e-09, 2.22908469e-10, 2.31601056e-02, 9.75574970e-01,\n",
              "        4.60390555e-04, 8.04566487e-04],\n",
              "       [1.30350472e-07, 5.69315688e-08, 9.99999762e-01, 1.42391443e-09,\n",
              "        1.93873806e-10, 2.64844743e-12],\n",
              "       [1.19061855e-22, 2.24943434e-18, 3.29174757e-13, 1.20357726e-07,\n",
              "        9.99999881e-01, 4.74146833e-11],\n",
              "       [1.20651544e-11, 3.48645772e-05, 9.99715626e-01, 4.67366931e-07,\n",
              "        2.42427835e-04, 6.51468099e-06],\n",
              "       [6.84955998e-13, 5.08398352e-06, 9.99733508e-01, 2.93629982e-05,\n",
              "        1.93034357e-04, 3.89604284e-05],\n",
              "       [2.12889331e-10, 9.99997854e-01, 2.13848580e-06, 2.29257915e-11,\n",
              "        1.07857062e-13, 8.62040795e-19],\n",
              "       [2.91080798e-10, 1.59947933e-09, 2.33725490e-17, 9.99994397e-01,\n",
              "        5.56119767e-06, 2.92264382e-08],\n",
              "       [1.79286586e-11, 9.92585719e-01, 7.41422782e-03, 1.29081967e-09,\n",
              "        9.43996659e-10, 1.45513738e-14],\n",
              "       [3.49174967e-14, 7.82989576e-11, 1.02594079e-11, 1.00000000e+00,\n",
              "        4.92767338e-09, 1.12289008e-15]], dtype=float32)"
            ]
          },
          "metadata": {
            "tags": []
          },
          "execution_count": 71
        }
      ]
    },
    {
      "cell_type": "code",
      "metadata": {
        "id": "XTtOPVtAtrbn",
        "colab_type": "code",
        "colab": {
          "base_uri": "https://localhost:8080/",
          "height": 34
        },
        "outputId": "2802e5da-2f6a-4d9c-e98b-b49f0085921c"
      },
      "source": [
        "firstrslt=result[71]\n",
        "firstrslt.max()"
      ],
      "execution_count": null,
      "outputs": [
        {
          "output_type": "execute_result",
          "data": {
            "text/plain": [
              "0.94736356"
            ]
          },
          "metadata": {
            "tags": []
          },
          "execution_count": 76
        }
      ]
    },
    {
      "cell_type": "code",
      "metadata": {
        "id": "Zx07WWBZtvqK",
        "colab_type": "code",
        "colab": {
          "base_uri": "https://localhost:8080/",
          "height": 34
        },
        "outputId": "7b931322-e814-42bb-a657-6c3771e44417"
      },
      "source": [
        "print(list(firstrslt).index(firstrslt.max()))"
      ],
      "execution_count": null,
      "outputs": [
        {
          "output_type": "stream",
          "text": [
            "4\n"
          ],
          "name": "stdout"
        }
      ]
    },
    {
      "cell_type": "code",
      "metadata": {
        "id": "gY1VzHKityGI",
        "colab_type": "code",
        "colab": {
          "base_uri": "https://localhost:8080/",
          "height": 285
        },
        "outputId": "3e72174d-e3fb-42fd-87ae-bd507ca2dae5"
      },
      "source": [
        "plt.imshow(X_test[71])"
      ],
      "execution_count": null,
      "outputs": [
        {
          "output_type": "execute_result",
          "data": {
            "text/plain": [
              "<matplotlib.image.AxesImage at 0x7f1b05ba1080>"
            ]
          },
          "metadata": {
            "tags": []
          },
          "execution_count": 75
        },
        {
          "output_type": "display_data",
          "data": {
            "image/png": "[encoded data removed]",
            "text/plain": [
              "<Figure size 432x288 with 1 Axes>"
            ]
          },
          "metadata": {
            "tags": [],
            "needs_background": "light"
          }
        }
      ]
    },
    {
      "cell_type": "code",
      "metadata": {
        "id": "fuMrV7izvUKT",
        "colab_type": "code",
        "colab": {
          "base_uri": "https://localhost:8080/",
          "height": 34
        },
        "outputId": "b134773b-e7b8-46bb-a329-7be77ccaac91"
      },
      "source": [
        "\n",
        "loss,metrics=classifier.evaluate(X_test,Y_test,batch_size=32)"
      ],
      "execution_count": null,
      "outputs": [
        {
          "output_type": "stream",
          "text": [
            "120/120 [==============================] - 0s 190us/step\n"
          ],
          "name": "stdout"
        }
      ]
    },
    {
      "cell_type": "code",
      "metadata": {
        "id": "4QG5uF-bywl3",
        "colab_type": "code",
        "colab": {
          "base_uri": "https://localhost:8080/",
          "height": 50
        },
        "outputId": "f312ab8c-630f-46b6-828f-ef437065145f"
      },
      "source": [
        "print(loss)\n",
        "print(metrics)"
      ],
      "execution_count": null,
      "outputs": [
        {
          "output_type": "stream",
          "text": [
            "0.3471617410580317\n",
            "0.925000011920929\n"
          ],
          "name": "stdout"
        }
      ]
    },
    {
      "cell_type": "code",
      "metadata": {
        "id": "OXEBbsjXy5O8",
        "colab_type": "code",
        "colab": {}
      },
      "source": [
        "from IPython.display import display, Javascript\n",
        "\n",
        "from google.colab.output import eval_js\n",
        "\n",
        "from base64 import b64decode\n",
        "\n",
        "def take_photo(filename='photo.jpg', quality=0.8):\n",
        "\n",
        "  js = Javascript('''\n",
        "\n",
        "  async function takePhoto(quality) {\n",
        "\n",
        "  const div = document.createElement('div');\n",
        "\n",
        "  const capture = document.createElement('button');\n",
        "\n",
        "  capture.textContent = 'Capture';\n",
        "\n",
        "  div.appendChild(capture);\n",
        "\n",
        "  const video = document.createElement('video');\n",
        "\n",
        "  video.style.display = 'block';\n",
        "\n",
        "  const stream = await navigator.mediaDevices.getUserMedia({video: true});\n",
        "\n",
        "  document.body.appendChild(div);\n",
        "\n",
        "  div.appendChild(video);\n",
        "\n",
        "  video.srcObject = stream;\n",
        "\n",
        "  await video.play();\n",
        "\n",
        "  // Resize the output to fit the video element.\n",
        "\n",
        "  google.colab.output.setIframeHeight(document.documentElement.scrollHeight, true);\n",
        "\n",
        "  // Wait for Capture to be clicked.\n",
        "\n",
        "  await new Promise((resolve) => capture.onclick = resolve);\n",
        "\n",
        "  const canvas = document.createElement('canvas');\n",
        "\n",
        "  canvas.width = video.videoWidth;\n",
        "\n",
        "  canvas.height = video.videoHeight;\n",
        "\n",
        "  canvas.getContext('2d').drawImage(video, 0, 0);\n",
        "\n",
        "  stream.getVideoTracks()[0].stop();\n",
        "\n",
        "  div.remove();\n",
        "\n",
        "  return canvas.toDataURL('image/jpeg', quality);\n",
        "\n",
        "  }\n",
        "\n",
        "  ''')\n",
        "\n",
        "  display(js)\n",
        "\n",
        "  data = eval_js('takePhoto({})'.format(quality))\n",
        "\n",
        "  binary = b64decode(data.split(',')[1])\n",
        "\n",
        "  with open(filename, 'wb') as f:\n",
        "\n",
        "    f.write(binary)\n",
        "\n",
        "    return filename\n",
        "\n",
        "    from IPython.display import Image\n",
        "\n",
        "    try:\n",
        "\n",
        "      filename = take_photo()\n",
        "\n",
        "      print('Saved to {}'.format(filename))\n",
        "\n",
        "      # Show the image which was just taken.\n",
        "\n",
        "      display(Image(filename))\n",
        "\n",
        "    except Exception as err:\n",
        "\n",
        "    # Errors will be thrown if the user does not have a webcam or if they do not\n",
        "\n",
        "    # grant the page permission to access it.\n",
        "\n",
        "      print(str(err))\n",
        "\n",
        "      from google.colab.patches import cv2_imshow\n",
        "\n",
        "      !curl -o logo.png\n",
        "\n",
        "      import cv2\n",
        "\n",
        "      img = cv2.imread('logo.png', cv2.IMREAD_UNCHANGED)\n",
        "\n",
        "      cv2_imshow(img)\n",
        "      plt.imshow(img)"
      ],
      "execution_count": null,
      "outputs": []
    },
    {
      "cell_type": "code",
      "metadata": {
        "id": "0coDWuoJ4RJh",
        "colab_type": "code",
        "colab": {
          "base_uri": "https://localhost:8080/",
          "height": 35
        },
        "outputId": "58e14549-f5ff-45ed-d163-e5e1a88da009"
      },
      "source": [
        "take_photo(\"photo.jpg\",0.9)"
      ],
      "execution_count": null,
      "outputs": [
        {
          "output_type": "display_data",
          "data": {
            "application/javascript": [
              "\n",
              "\n",
              "  async function takePhoto(quality) {\n",
              "\n",
              "  const div = document.createElement('div');\n",
              "\n",
              "  const capture = document.createElement('button');\n",
              "\n",
              "  capture.textContent = 'Capture';\n",
              "\n",
              "  div.appendChild(capture);\n",
              "\n",
              "  const video = document.createElement('video');\n",
              "\n",
              "  video.style.display = 'block';\n",
              "\n",
              "  const stream = await navigator.mediaDevices.getUserMedia({video: true});\n",
              "\n",
              "  document.body.appendChild(div);\n",
              "\n",
              "  div.appendChild(video);\n",
              "\n",
              "  video.srcObject = stream;\n",
              "\n",
              "  await video.play();\n",
              "\n",
              "  // Resize the output to fit the video element.\n",
              "\n",
              "  google.colab.output.setIframeHeight(document.documentElement.scrollHeight, true);\n",
              "\n",
              "  // Wait for Capture to be clicked.\n",
              "\n",
              "  await new Promise((resolve) => capture.onclick = resolve);\n",
              "\n",
              "  const canvas = document.createElement('canvas');\n",
              "\n",
              "  canvas.width = video.videoWidth;\n",
              "\n",
              "  canvas.height = video.videoHeight;\n",
              "\n",
              "  canvas.getContext('2d').drawImage(video, 0, 0);\n",
              "\n",
              "  stream.getVideoTracks()[0].stop();\n",
              "\n",
              "  div.remove();\n",
              "\n",
              "  return canvas.toDataURL('image/jpeg', quality);\n",
              "\n",
              "  }\n",
              "\n",
              "  "
            ],
            "text/plain": [
              "<IPython.core.display.Javascript object>"
            ]
          },
          "metadata": {
            "tags": []
          }
        },
        {
          "output_type": "execute_result",
          "data": {
            "application/vnd.google.colaboratory.intrinsic+json": {
              "type": "string"
            },
            "text/plain": [
              "'photo.jpg'"
            ]
          },
          "metadata": {
            "tags": []
          },
          "execution_count": 137
        }
      ]
    },
    {
      "cell_type": "code",
      "metadata": {
        "id": "-n7RVWE15KQE",
        "colab_type": "code",
        "colab": {}
      },
      "source": [
        "\n",
        "from PIL import Image \n",
        "  \n",
        "filename = \"/content/photo.jpg\"\n",
        "with Image.open(filename) as image: \n",
        "    width, height = image.size \n",
        "    new_image = image.resize((64, 64))\n",
        "    new_image.save('image_400.jpg')\n"
      ],
      "execution_count": null,
      "outputs": []
    },
    {
      "cell_type": "code",
      "metadata": {
        "id": "uW0AMA5u5xt6",
        "colab_type": "code",
        "colab": {
          "base_uri": "https://localhost:8080/",
          "height": 34
        },
        "outputId": "f07b7939-f124-44be-e9fc-17449a9e0c71"
      },
      "source": [
        "list(classifier.predict(np.expand_dims(new_image,axis=0))[0]).index(max(classifier.predict(np.expand_dims(new_image,axis=0))[0]))"
      ],
      "execution_count": null,
      "outputs": [
        {
          "output_type": "execute_result",
          "data": {
            "text/plain": [
              "1"
            ]
          },
          "metadata": {
            "tags": []
          },
          "execution_count": 139
        }
      ]
    },
    {
      "cell_type": "code",
      "metadata": {
        "id": "vhYBfW1p6ivp",
        "colab_type": "code",
        "colab": {}
      },
      "source": [
        "print()"
      ],
      "execution_count": null,
      "outputs": []
    }
  ]
}